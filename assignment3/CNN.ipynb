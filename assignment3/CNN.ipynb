{
  "nbformat": 4,
  "nbformat_minor": 0,
  "metadata": {
    "colab": {
      "name": "CNN.ipynb",
      "provenance": [],
      "collapsed_sections": []
    },
    "kernelspec": {
      "name": "python3",
      "display_name": "Python 3"
    },
    "accelerator": "GPU"
  },
  "cells": [
    {
      "cell_type": "code",
      "metadata": {
        "id": "Kx34IAcMPUVo",
        "colab_type": "code",
        "outputId": "3f776d27-c53f-462c-d628-f2f7d13299ef",
        "colab": {
          "base_uri": "https://localhost:8080/",
          "height": 55
        }
      },
      "source": [
        "from google.colab import drive\n",
        "drive.mount('/content/gdrive')\n",
        "dataset_path = \"gdrive/My Drive/Colab Notebooks/DEEP LEARNING/deeplearning3/\""
      ],
      "execution_count": 37,
      "outputs": [
        {
          "output_type": "stream",
          "text": [
            "Drive already mounted at /content/gdrive; to attempt to forcibly remount, call drive.mount(\"/content/gdrive\", force_remount=True).\n"
          ],
          "name": "stdout"
        }
      ]
    },
    {
      "cell_type": "code",
      "metadata": {
        "id": "ak8gWL3YUKmJ",
        "colab_type": "code",
        "colab": {}
      },
      "source": [
        "from pandas import DataFrame\n",
        "from pandas import Series\n",
        "from pandas import concat\n",
        "from pandas import read_csv\n",
        "from pandas import datetime\n",
        "from sklearn.metrics import mean_absolute_error\n",
        "from sklearn.preprocessing import MinMaxScaler\n",
        "from keras.layers import LSTM\n",
        "from keras.models import Sequential\n",
        "from keras.layers import Dense\n",
        "from math import sqrt\n",
        "from scipy.io import loadmat\n",
        "import matplotlib\n",
        "import matplotlib.pyplot as plt\n",
        "import numpy as np\n",
        "from keras.models import Sequential, load_model, Model\n",
        "from keras.layers import Dense, Flatten, Conv2D, MaxPooling2D, Reshape\n",
        "from keras.layers import Dense, Dropout, Activation, Flatten\n",
        "import copy"
      ],
      "execution_count": 0,
      "outputs": []
    },
    {
      "cell_type": "code",
      "metadata": {
        "id": "TkV1IvjqPd4I",
        "colab_type": "code",
        "colab": {}
      },
      "source": [
        "series = loadmat(dataset_path + 'data.mat')\n",
        "series = series['X']"
      ],
      "execution_count": 0,
      "outputs": []
    },
    {
      "cell_type": "code",
      "metadata": {
        "id": "5PT9UDS5WI0c",
        "colab_type": "code",
        "colab": {}
      },
      "source": [
        "n_observations = np.arange(series.shape[0]) \n",
        "variables_name = [\"Wind speed\",\"Wind direction\", \"Temperature\", \"Dew Point\",\"Air Pressure\"]\n",
        "n_cities = series.shape[1]\n",
        "n_variables = series.shape[2]"
      ],
      "execution_count": 0,
      "outputs": []
    },
    {
      "cell_type": "code",
      "metadata": {
        "id": "OAbD0pt7VX1g",
        "colab_type": "code",
        "colab": {}
      },
      "source": [
        "# fig, axs = plt.subplots(n_cities, n_variables, figsize = (35,20))\n",
        "# for city in range(n_cities):\n",
        "#   for variable in range(n_variables):\n",
        "#     axs[city, variable].plot(n_observations, series[:, city, variable])\n",
        "#     axs[city, variable].set_title('City: ' + str(city + 1) + \", Variable: \" + str(variables_name[variable]))  "
      ],
      "execution_count": 0,
      "outputs": []
    },
    {
      "cell_type": "code",
      "metadata": {
        "id": "7MtEZB2eNFfV",
        "colab_type": "code",
        "colab": {}
      },
      "source": [
        "def scale_data(data, variable):\n",
        "  v_min = data[:,:,variable].min()\n",
        "  v_max = data[:,:,variable].max()\n",
        "  scaled_data = (data[:,:,variable] - v_min)/(v_max - v_min)\n",
        "  return scaled_data"
      ],
      "execution_count": 0,
      "outputs": []
    },
    {
      "cell_type": "code",
      "metadata": {
        "id": "2YrdwWqzVy2X",
        "colab_type": "code",
        "colab": {}
      },
      "source": [
        "def inverse_scale(original_data, scaled_data, variable):\n",
        "  v_min = original_data[:,:,variable].min()\n",
        "  v_max = original_data[:,:,variable].max()\n",
        "  inverse_scale_data = scaled_data[:,:,variable] * (v_max - v_min) + v_min\n",
        "  return inverse_scale_data"
      ],
      "execution_count": 0,
      "outputs": []
    },
    {
      "cell_type": "code",
      "metadata": {
        "id": "M3gyUQoMR4jb",
        "colab_type": "code",
        "colab": {}
      },
      "source": [
        "scaled_data = np.zeros(series.shape)\n",
        "for variable in range(n_variables):\n",
        "  scaled_data[:,:,variable] = scale_data(series, variable)"
      ],
      "execution_count": 0,
      "outputs": []
    },
    {
      "cell_type": "code",
      "metadata": {
        "id": "3r-doDuvn1CI",
        "colab_type": "code",
        "colab": {}
      },
      "source": [
        "test_series_size = 168\n",
        "train_series = scaled_data[:-test_series_size,:,:]\n",
        "test_series = scaled_data[-test_series_size:,:,:]"
      ],
      "execution_count": 0,
      "outputs": []
    },
    {
      "cell_type": "code",
      "metadata": {
        "id": "PRf0x8YXdqYG",
        "colab_type": "code",
        "colab": {}
      },
      "source": [
        "def create_dataset(data, time_steps):\n",
        "  samples = data.shape[0] - time_steps\n",
        "  channel_to_predict = 2\n",
        "  city_to_predict = 3\n",
        "  X = np.zeros((samples, time_steps, data.shape[1], data.shape[2]))\n",
        "  y = np.zeros((samples))\n",
        "  for i in range(samples):\n",
        "    for j in range(time_steps):\n",
        "      X[i, j, : , :] =  data[i + j, :, :]\n",
        "    y[i] = data[i + j + 1, city_to_predict, channel_to_predict]\n",
        "  return X, y "
      ],
      "execution_count": 0,
      "outputs": []
    },
    {
      "cell_type": "code",
      "metadata": {
        "id": "Qh_pMbmCec2z",
        "colab_type": "code",
        "colab": {}
      },
      "source": [
        "time_step = 48\n",
        "validation_set_size = 100\n",
        "X, y = create_dataset(train_series, time_step)"
      ],
      "execution_count": 0,
      "outputs": []
    },
    {
      "cell_type": "code",
      "metadata": {
        "id": "ACsnKt3j-h9O",
        "colab_type": "code",
        "colab": {}
      },
      "source": [
        "def CNN_model(X,y):\n",
        "  model = Sequential()\n",
        "  model.add(Conv2D(16, kernel_size=(3, 3), padding='same', activation='relu', input_shape=X_train[0].shape, data_format=\"channels_last\"))\n",
        "  model.add(MaxPooling2D(pool_size=(2, 2)))\n",
        "  model.add(Conv2D(32, kernel_size=(3, 3), padding='same', activation='relu'))\n",
        "  model.add(Conv2D(64, kernel_size=(3, 3), padding='same', activation='relu'))\n",
        "  model.add(Flatten())\n",
        "  model.add(Dense(128, kernel_initializer= 'normal', activation='relu'))\n",
        "  model.add(Dense(64, kernel_initializer= 'normal', activation='relu'))\n",
        "  model.add(Dense(32, kernel_initializer= 'normal', activation='relu'))\n",
        "  model.add(Dense(8, kernel_initializer= 'normal', activation='relu'))\n",
        "  model.add(Dense(1, kernel_initializer= 'normal', activation='relu'))\n",
        "  model.compile(optimizer='adam', loss='mse')\n",
        "  model.fit(X, y, epochs=100, verbose=1, batch_size=32)\n",
        "  return model"
      ],
      "execution_count": 0,
      "outputs": []
    },
    {
      "cell_type": "code",
      "metadata": {
        "id": "iYNhEAGPIKVl",
        "colab_type": "code",
        "colab": {}
      },
      "source": [
        "model = CNN_model(X_train,y_train)"
      ],
      "execution_count": 0,
      "outputs": []
    },
    {
      "cell_type": "code",
      "metadata": {
        "id": "odaz_yjzKyif",
        "colab_type": "code",
        "colab": {}
      },
      "source": [
        "channel_to_predict = 2\n",
        "city_to_predict = 3 \n",
        "series_input = train_series[-time_step:,:,:]\n",
        "for i in range(test_series.shape[0]):\n",
        "  y_pred = model.predict(series_input.reshape(1,series_input.shape[0], series_input.shape[1],series_input.shape[2]))\n",
        "  series_input = np.delete(series_input, obj=0, axis=0)\n",
        "  test_series[i,city_to_predict,channel_to_predict] = y_pred\n",
        "  series_input = np.append(series_input, test_series[i].reshape(1,test_series.shape[1], test_series.shape[2] ), axis=0)"
      ],
      "execution_count": 0,
      "outputs": []
    },
    {
      "cell_type": "code",
      "metadata": {
        "id": "eYIGzen85x4U",
        "colab_type": "code",
        "colab": {}
      },
      "source": [
        "predicted_temperature = inverse_scale(series, test_series, channel_to_predict)[:,city_to_predict]"
      ],
      "execution_count": 0,
      "outputs": []
    },
    {
      "cell_type": "code",
      "metadata": {
        "id": "3gyky2Wm1f50",
        "colab_type": "code",
        "colab": {}
      },
      "source": [
        "series = loadmat(dataset_path + 'data.mat')\n",
        "series = series['X']\n",
        "real_temperature_values = series[-test_series_size:,city_to_predict,channel_to_predict]"
      ],
      "execution_count": 0,
      "outputs": []
    },
    {
      "cell_type": "code",
      "metadata": {
        "id": "mNISH0oxkc-F",
        "colab_type": "code",
        "outputId": "e0a69607-bdf5-4fa5-b581-cc48f57c4768",
        "colab": {
          "base_uri": "https://localhost:8080/",
          "height": 35
        }
      },
      "source": [
        "MAE = mean_absolute_error(real_temperature_values, predicted_temperature)\n",
        "print(MAE)"
      ],
      "execution_count": 22,
      "outputs": [
        {
          "output_type": "stream",
          "text": [
            "10.870505901497035\n"
          ],
          "name": "stdout"
        }
      ]
    },
    {
      "cell_type": "code",
      "metadata": {
        "id": "jKsnWQ1sirWK",
        "colab_type": "code",
        "outputId": "d41b919e-6900-4782-ecc3-5d66e6d68d43",
        "colab": {
          "base_uri": "https://localhost:8080/",
          "height": 295
        }
      },
      "source": [
        "n_observations = np.arange(test_series.shape[0]) \n",
        "plt.plot(n_observations, predicted_temperature, label='predictions')\n",
        "plt.plot(n_observations, real_temperature_values, label='real values')\n",
        "plt.title(\"Comparison over test predictions\")\n",
        "plt.xlabel('time')\n",
        "plt.ylabel('temperature')\n",
        "plt.legend()\n",
        "plt.show()"
      ],
      "execution_count": 23,
      "outputs": [
        {
          "output_type": "display_data",
          "data": {
            "image/png": "[encoded data removed]",
            "text/plain": [
              "<Figure size 432x288 with 1 Axes>"
            ]
          },
          "metadata": {
            "tags": [],
            "needs_background": "light"
          }
        }
      ]
    },
    {
      "cell_type": "code",
      "metadata": {
        "id": "gT3ePeqvI2dW",
        "colab_type": "code",
        "colab": {}
      },
      "source": [
        "# run a repeated experiment\n",
        "def experiment(lag,repeats):\n",
        "  # run experiment\n",
        "  error_scores = list()\n",
        "  \n",
        "  for r in range(repeats):\n",
        "    model = CNN_model()\n",
        "    rmse = validation_model()\n",
        "    error_scores.append(MAE)  \n",
        "  \n",
        "  return error_scores"
      ],
      "execution_count": 0,
      "outputs": []
    },
    {
      "cell_type": "code",
      "metadata": {
        "id": "wjbXhPGCrwmu",
        "colab_type": "code",
        "colab": {}
      },
      "source": [
        "# load dataset\n",
        "series = loadmat(dataset_path + 'data.mat')\n",
        "series = series['X']\n",
        "\n",
        "#scale data\n",
        "scaled_data = np.zeros(series.shape)\n",
        "for variable in range(n_variables):\n",
        "  scaled_data[:,:,variable] = scale_data(series, variable)\n",
        "\n",
        "test_series_size = 168\n",
        "train_series = scaled_data[:-test_series_size,:,:]\n",
        "test_series = scaled_data[-test_series_size:,:,:]\n",
        "# experiment\n",
        "repeats = 5\n",
        "n_lags = [5, 10, 15, 20, 25, 30, 35, 40, 45, 50]\n",
        "count = 0\n",
        "\n",
        "for lag in n_lags:\n",
        "  print(\"---------------------------------------------------------------------------\")\n",
        "  count  = count + 1\n",
        "  print(\"model = \", count)\n",
        "  results[str(count)] = experiment(lag)\n",
        "# summarize results\n",
        "print(results.describe())\n",
        "# save boxplot\n",
        "results.boxplot(figsize=(28, 12))"
      ],
      "execution_count": 0,
      "outputs": []
    }
  ]
}